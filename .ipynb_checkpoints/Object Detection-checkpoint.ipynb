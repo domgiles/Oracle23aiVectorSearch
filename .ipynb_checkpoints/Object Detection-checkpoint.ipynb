{
 "cells": [
  {
   "cell_type": "markdown",
   "id": "921788fd-e849-4c7f-a3eb-b37d1e23dd20",
   "metadata": {},
   "source": [
    "## Object Detection\n",
    "\n",
    "Let's start with a few terms\n",
    "\n",
    "* **Transformers** : A transformer is a type of neural network architecture introduced in the paper \"Attention is All You Need\" by Vaswani et al. in 2017. Transformers are designed to process sequences of data, such as sentences in natural language, and have since become a fundamental building block in various deep learning applications.\n",
    "* **LLMs** :  a large language model, like GPT-3 (Generative Pre-trained Transformer 3), is a specific implementation of a transformer architecture that has been pre-trained on a massive amount of text data to perform language-related tasks. GPT-3, for instance, is a powerful language model developed by OpenAI that can generate coherent and contextually relevant text given a prompt. It can be fine-tuned for specific tasks, such as translation, summarization, question answering, and more.\n",
    "* **Embeddings** : An embedding is a way to represent and encode objects, such as words or items, as vectors in a continuous vector space. Embeddings are commonly used in machine learning and natural language processing (NLP) to capture semantic relationships and similarities between objects.\n",
    "* **Vector** : an embedding is essentially a vector, but the term \"embedding\" is often used in the context of machine learning to emphasize the idea that objects are being placed into a continuous vector space for the purpose of capturing meaningful relationships and patterns.\n",
    "\n",
    "*Source : Responses from questions to OpenAI ChatGPT*\n",
    "\n",
    "We'll be using Python (3.11), Pytorch (a Machine Learning Library), SentenceTransformer (A tool to generate text and image embeddings based on Pytorch) and a few other utilities (PIL, Matplotlib, Numpy) to help display \n",
    "some of the objects we'll be using.\n",
    "\n",
    "#### Load the needed Python libraries\n",
    "The first step is to simply import the libraries we'll be using through the tests."
   ]
  },
  {
   "cell_type": "code",
   "execution_count": null,
   "id": "bc5b9de4-ec43-4376-8014-d29ce5f6e8b2",
   "metadata": {},
   "outputs": [],
   "source": [
    "import requests\n",
    "from PIL import Image, ImageDraw\n",
    "from transformers import pipeline\n",
    "import matplotlib.pyplot as plt\n",
    "import numpy as np\n",
    "from scipy import stats"
   ]
  },
  {
   "cell_type": "markdown",
   "id": "9ba5ad76-69b3-40cc-9fb9-90f29a611e68",
   "metadata": {},
   "source": [
    "## Recent uses of Neural Networks\n",
    "\n",
    "The following demonstrates probably the most widely used use of neural networks to do tasks such as image classification. We'll first load an image and use the detr-resnet-50 model to do image classification and determine where on the image the objects exist. The Transformers library and pipeline function make it very simple to consume and use the model. The object detection finds objects of interest on images and returns the location in the image. This could be done on images or run on individual frames of videos."
   ]
  },
  {
   "cell_type": "code",
   "execution_count": null,
   "id": "85eb879c-da20-4acb-9993-ce9435c8ff2b",
   "metadata": {},
   "outputs": [],
   "source": [
    "image = Image.open('/Users/dgiles/Downloads/cat2.png')\n",
    "\n",
    "object_detector = pipeline('object-detection', model='facebook/detr-resnet-50')\n",
    "result = object_detector(image)\n",
    "result"
   ]
  },
  {
   "cell_type": "code",
   "execution_count": null,
   "id": "4bd0be69-0334-477f-9e59-cc435fbce9b0",
   "metadata": {},
   "outputs": [],
   "source": [
    "i = ImageDraw.Draw(image)\n",
    "i.rectangle([(result[0]['box']['xmin'],\n",
    "              result[0]['box']['ymin']),\n",
    "             ((result[0]['box']['xmax'],\n",
    "              result[0]['box']['ymax']))], outline=(10,50,240))\n",
    "i.text((result[0]['box']['xmin']+ 5,\n",
    "        result[0]['box']['ymin'] + 5),\n",
    "       f\"Label = {result[0]['label']}, Score = {result[0]['score']:.3f}\",\n",
    "       fill=(255, 0, 0),\n",
    "       font_size=20)\n",
    "display(image)"
   ]
  },
  {
   "cell_type": "code",
   "execution_count": null,
   "id": "7013c7f2-f9c8-4b45-8c67-c950f029993d",
   "metadata": {},
   "outputs": [],
   "source": []
  }
 ],
 "metadata": {
  "kernelspec": {
   "display_name": "Python 3 (ipykernel)",
   "language": "python",
   "name": "python3"
  },
  "language_info": {
   "codemirror_mode": {
    "name": "ipython",
    "version": 3
   },
   "file_extension": ".py",
   "mimetype": "text/x-python",
   "name": "python",
   "nbconvert_exporter": "python",
   "pygments_lexer": "ipython3",
   "version": "3.11.6"
  }
 },
 "nbformat": 4,
 "nbformat_minor": 5
}
